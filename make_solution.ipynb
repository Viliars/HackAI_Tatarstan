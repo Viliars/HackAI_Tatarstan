{
 "cells": [
  {
   "cell_type": "code",
   "execution_count": 4,
   "metadata": {
    "colab": {
     "base_uri": "https://localhost:8080/"
    },
    "id": "VkOJXFmilOMb",
    "outputId": "842c134f-435f-4093-b6ab-372fd6c01767"
   },
   "outputs": [],
   "source": [
    "import os\n",
    "import pandas as pd"
   ]
  },
  {
   "cell_type": "code",
   "execution_count": 5,
   "metadata": {
    "id": "MHexw0z9kF80"
   },
   "outputs": [],
   "source": [
    "def get_soliton_labels_df_simple_solution(path_to_txt_folder):\n",
    "    simple_solution = []\n",
    "    for detection_file in os.listdir(path_to_txt_folder):\n",
    "        img_name = detection_file.split('.')[0] + '.jpg'\n",
    "        with open(path_to_txt_folder + detection_file, 'r') as f:\n",
    "            data = f.read()\n",
    "            data = [i for i in data.split('\\n') if i != '']\n",
    "        for line in data:\n",
    "            val = [float(i) for i in line.split()]\n",
    "            test, xywh, conf = val[0], val[1:5], val[5]\n",
    "            center_x, center_y, width, height = xywh\n",
    "            xmin = center_x - (width / 2)\n",
    "            xmax = center_x + (width / 2)\n",
    "            ymin = center_y - (height / 2)\n",
    "            ymax = center_y + (height / 2)\n",
    "            simple_solution.append([img_name, int(test), conf, xmin, xmax, ymin, ymax])\n",
    "    return simple_solution"
   ]
  },
  {
   "cell_type": "code",
   "execution_count": 7,
   "metadata": {
    "id": "cbc3lBzGkNfs"
   },
   "outputs": [],
   "source": [
    "simple_solution = get_soliton_labels_df_simple_solution('yolov7/runs/detect/exp25/labels/')\n",
    "simple_solution = pd.DataFrame(simple_solution, columns=['ImageID', 'LabelName', 'Conf', 'XMin', 'XMax', 'YMin', 'YMax'])"
   ]
  },
  {
   "cell_type": "code",
   "execution_count": 8,
   "metadata": {
    "id": "YDfLvlP1rXrx"
   },
   "outputs": [],
   "source": [
    "simple_solution.to_csv(\"result.csv\", sep=';', index=False)"
   ]
  }
 ],
 "metadata": {
  "accelerator": "GPU",
  "colab": {
   "collapsed_sections": [],
   "name": "baseline.ipynb",
   "provenance": []
  },
  "gpuClass": "standard",
  "kernelspec": {
   "display_name": "Python 3 (ipykernel)",
   "language": "python",
   "name": "python3"
  },
  "language_info": {
   "codemirror_mode": {
    "name": "ipython",
    "version": 3
   },
   "file_extension": ".py",
   "mimetype": "text/x-python",
   "name": "python",
   "nbconvert_exporter": "python",
   "pygments_lexer": "ipython3",
   "version": "3.8.10"
  }
 },
 "nbformat": 4,
 "nbformat_minor": 1
}
